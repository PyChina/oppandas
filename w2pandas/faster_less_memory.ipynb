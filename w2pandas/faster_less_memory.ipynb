{
 "cells": [
  {
   "cell_type": "markdown",
   "id": "6208508d-dd73-4e6c-a945-c841239157dd",
   "metadata": {},
   "source": [
    "## 优化俱乐部\n",
    "- 数据样本 https://www.nyc.gov/site/tlc/about/tlc-trip-record-data.page"
   ]
  },
  {
   "cell_type": "code",
   "execution_count": 1,
   "id": "db053563-f6bd-43e9-8207-92d4fa845d80",
   "metadata": {},
   "outputs": [],
   "source": [
    "import pandas as pd,numpy as np"
   ]
  },
  {
   "cell_type": "code",
   "execution_count": 2,
   "id": "9bee8a8a-bc86-4fb9-9831-65b9bca0e763",
   "metadata": {},
   "outputs": [],
   "source": [
    "df = pd.read_parquet('yellow_tripdata_2022-04.parquet')"
   ]
  },
  {
   "cell_type": "code",
   "execution_count": 3,
   "id": "c5a525ee-045e-4e49-84c4-b950d8d07b66",
   "metadata": {},
   "outputs": [
    {
     "data": {
      "text/plain": [
       "3599920"
      ]
     },
     "execution_count": 3,
     "metadata": {},
     "output_type": "execute_result"
    }
   ],
   "source": [
    "len(df)"
   ]
  },
  {
   "cell_type": "code",
   "execution_count": 4,
   "id": "c2ecb8af-e09e-4f68-af60-92c010ac9cf3",
   "metadata": {},
   "outputs": [
    {
     "data": {
      "text/plain": [
       "Index(['VendorID', 'tpep_pickup_datetime', 'tpep_dropoff_datetime',\n",
       "       'passenger_count', 'trip_distance', 'RatecodeID', 'store_and_fwd_flag',\n",
       "       'PULocationID', 'DOLocationID', 'payment_type', 'fare_amount', 'extra',\n",
       "       'mta_tax', 'tip_amount', 'tolls_amount', 'improvement_surcharge',\n",
       "       'total_amount', 'congestion_surcharge', 'airport_fee'],\n",
       "      dtype='object')"
      ]
     },
     "execution_count": 4,
     "metadata": {},
     "output_type": "execute_result"
    }
   ],
   "source": [
    "df.columns"
   ]
  },
  {
   "cell_type": "markdown",
   "id": "6cb6f4b6-5b1d-4ca9-914c-de336aa6ea71",
   "metadata": {},
   "source": [
    "### 准则:\n",
    "[The Rules of Optimization Club:](https://wiki.c2.com/?RulesOfOptimizationClub)\n",
    "\n",
    "1. 你没有进行优化。\n",
    "2. 你没有进行优化，除非先进行测量。\n",
    "3. 当性能不受代码约束，而是受外部因素约束时，优化就结束了。\n",
    "4. 只优化已经具有完整单元测试覆盖率的代码。\n",
    "5. 一次解决一个因素。\n",
    "6. 没有未解决的错误，没有进度压力。\n",
    "7. 只要有必要，测试就会一直进行。\n",
    "8. 如果这是你第一次参加优化俱乐部，你必须编写一个测试用例。\n"
   ]
  },
  {
   "cell_type": "code",
   "execution_count": 5,
   "id": "aa51ab3c-860a-4278-87f0-76f5633953de",
   "metadata": {},
   "outputs": [
    {
     "name": "stdout",
     "output_type": "stream",
     "text": [
      "CPU times: user 613 ms, sys: 305 ms, total: 918 ms\n",
      "Wall time: 412 ms\n"
     ]
    }
   ],
   "source": [
    "%time df = pd.read_parquet('yellow_tripdata_2022-04.parquet')"
   ]
  },
  {
   "cell_type": "code",
   "execution_count": 6,
   "id": "eba9ce76-0022-4504-97ab-9acec0f61e3d",
   "metadata": {},
   "outputs": [],
   "source": [
    "df.to_csv('yellow_tripdata_2022-04.csv', index=False)"
   ]
  },
  {
   "cell_type": "code",
   "execution_count": 9,
   "id": "a17d20f7-9243-437b-9872-c958ff4f0b5e",
   "metadata": {},
   "outputs": [
    {
     "name": "stdout",
     "output_type": "stream",
     "text": [
      "    16 faster_less_memory.ipynb         164352 yellow_tripdata_2022-04.csv.gz\n",
      "755112 yellow_tripdata_2022-04.csv      108608 yellow_tripdata_2022-04.parquet\n"
     ]
    }
   ],
   "source": [
    "ls -hs *"
   ]
  },
  {
   "cell_type": "code",
   "execution_count": null,
   "id": "7721d0a5-d917-4537-a7d0-ab2f2e001474",
   "metadata": {},
   "outputs": [],
   "source": [
    "%time df = pd.read_csv('yellow_tripdata_2022-04.')"
   ]
  },
  {
   "cell_type": "code",
   "execution_count": null,
   "id": "3519dcd2-1916-45d6-a14b-0cd601b44e09",
   "metadata": {},
   "outputs": [],
   "source": []
  }
 ],
 "metadata": {
  "kernelspec": {
   "display_name": "Python 3 (ipykernel)",
   "language": "python",
   "name": "python3"
  },
  "language_info": {
   "codemirror_mode": {
    "name": "ipython",
    "version": 3
   },
   "file_extension": ".py",
   "mimetype": "text/x-python",
   "name": "python",
   "nbconvert_exporter": "python",
   "pygments_lexer": "ipython3",
   "version": "3.12.3"
  }
 },
 "nbformat": 4,
 "nbformat_minor": 5
}
