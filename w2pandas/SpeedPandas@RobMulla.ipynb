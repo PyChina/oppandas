{
 "cells": [
  {
   "cell_type": "markdown",
   "id": "00d88715-9286-4775-98b1-21877338b7b7",
   "metadata": {},
   "source": [
    "# 闪电级加速\n",
    "\n",
    "[Make Your Pandas Code Lightning Fast \\- YouTube](https://www.youtube.com/watch?v=SAFmrTnEHLg)\n"
   ]
  },
  {
   "cell_type": "code",
   "execution_count": 1,
   "id": "0c018b3f",
   "metadata": {},
   "outputs": [
    {
     "name": "stdout",
     "output_type": "stream",
     "text": [
      "3.8.4\n"
     ]
    }
   ],
   "source": [
    "import matplotlib\n",
    "print(matplotlib.__version__)"
   ]
  },
  {
   "cell_type": "code",
   "execution_count": 2,
   "id": "a406df3d",
   "metadata": {},
   "outputs": [],
   "source": [
    "%load_ext memory_profiler"
   ]
  },
  {
   "cell_type": "code",
   "execution_count": 3,
   "id": "35e93288-dc4f-4e35-8d0b-52aca61a6f6a",
   "metadata": {},
   "outputs": [],
   "source": [
    "import pandas as pd, numpy as np"
   ]
  },
  {
   "cell_type": "code",
   "execution_count": 4,
   "id": "bcdb0293-257d-4f72-a53f-a53e94c5c511",
   "metadata": {},
   "outputs": [],
   "source": [
    "def get_data(size = 10_000):\n",
    "    df = pd.DataFrame()\n",
    "    size =10_000\n",
    "    df['age'] = np.random.randint(0, 100, size)\n",
    "    df['time_in_bed'] = np.random.randint(0,9,size)\n",
    "    df['pct_sleeping']= np.random.rand(size)\n",
    "    df['favorite_food'] = np.random.choice(['pizza','taco','ice-cream'], size)\n",
    "    df['hate_food'] = np.random.choice(['broccoli','candy corn','eggs'], size)\n",
    "    return df\n"
   ]
  },
  {
   "cell_type": "code",
   "execution_count": 5,
   "id": "7877a077-e8a3-452d-bad6-e0be31415e55",
   "metadata": {},
   "outputs": [
    {
     "data": {
      "text/html": [
       "<div>\n",
       "<style scoped>\n",
       "    .dataframe tbody tr th:only-of-type {\n",
       "        vertical-align: middle;\n",
       "    }\n",
       "\n",
       "    .dataframe tbody tr th {\n",
       "        vertical-align: top;\n",
       "    }\n",
       "\n",
       "    .dataframe thead th {\n",
       "        text-align: right;\n",
       "    }\n",
       "</style>\n",
       "<table border=\"1\" class=\"dataframe\">\n",
       "  <thead>\n",
       "    <tr style=\"text-align: right;\">\n",
       "      <th></th>\n",
       "      <th>age</th>\n",
       "      <th>time_in_bed</th>\n",
       "      <th>pct_sleeping</th>\n",
       "      <th>favorite_food</th>\n",
       "      <th>hate_food</th>\n",
       "    </tr>\n",
       "  </thead>\n",
       "  <tbody>\n",
       "    <tr>\n",
       "      <th>0</th>\n",
       "      <td>19</td>\n",
       "      <td>4</td>\n",
       "      <td>0.449805</td>\n",
       "      <td>pizza</td>\n",
       "      <td>candy corn</td>\n",
       "    </tr>\n",
       "    <tr>\n",
       "      <th>1</th>\n",
       "      <td>93</td>\n",
       "      <td>7</td>\n",
       "      <td>0.273745</td>\n",
       "      <td>pizza</td>\n",
       "      <td>candy corn</td>\n",
       "    </tr>\n",
       "    <tr>\n",
       "      <th>2</th>\n",
       "      <td>20</td>\n",
       "      <td>3</td>\n",
       "      <td>0.242331</td>\n",
       "      <td>ice-cream</td>\n",
       "      <td>broccoli</td>\n",
       "    </tr>\n",
       "    <tr>\n",
       "      <th>3</th>\n",
       "      <td>75</td>\n",
       "      <td>7</td>\n",
       "      <td>0.849347</td>\n",
       "      <td>ice-cream</td>\n",
       "      <td>candy corn</td>\n",
       "    </tr>\n",
       "    <tr>\n",
       "      <th>4</th>\n",
       "      <td>91</td>\n",
       "      <td>2</td>\n",
       "      <td>0.023806</td>\n",
       "      <td>taco</td>\n",
       "      <td>broccoli</td>\n",
       "    </tr>\n",
       "  </tbody>\n",
       "</table>\n",
       "</div>"
      ],
      "text/plain": [
       "   age  time_in_bed  pct_sleeping favorite_food   hate_food\n",
       "0   19            4      0.449805         pizza  candy corn\n",
       "1   93            7      0.273745         pizza  candy corn\n",
       "2   20            3      0.242331     ice-cream    broccoli\n",
       "3   75            7      0.849347     ice-cream  candy corn\n",
       "4   91            2      0.023806          taco    broccoli"
      ]
     },
     "execution_count": 5,
     "metadata": {},
     "output_type": "execute_result"
    }
   ],
   "source": [
    "df = get_data()\n",
    "df.head()"
   ]
  },
  {
   "cell_type": "markdown",
   "id": "966d56e9",
   "metadata": {},
   "source": [
    "## 任务\n",
    "\n",
    "计算:\n",
    "\n",
    "- 喜爱的食品: 在床 > 5 且 睡 > 50%\n",
    "- 喜爱的食品: 如果 > 90岁\n",
    "- 讨厌的食品: 其它情况\n",
    "\n"
   ]
  },
  {
   "cell_type": "code",
   "execution_count": 6,
   "id": "91f00955",
   "metadata": {},
   "outputs": [],
   "source": [
    "def reward_calc(row):\n",
    "    if row['age'] >= 90:\n",
    "        return row['favorite_food']\n",
    "    if(row['time_in_bed']>5)&(row['pct_sleeping']> 0.5):\n",
    "        return row['favorite_food']\n",
    "    return row['hate_food']"
   ]
  },
  {
   "cell_type": "markdown",
   "id": "25e55210",
   "metadata": {},
   "source": [
    "### loop"
   ]
  },
  {
   "cell_type": "code",
   "execution_count": 7,
   "id": "047c28b7",
   "metadata": {},
   "outputs": [
    {
     "name": "stdout",
     "output_type": "stream",
     "text": [
      "756 ms ± 16.1 ms per loop (mean ± std. dev. of 7 runs, 1 loop each)\n"
     ]
    }
   ],
   "source": [
    "%%timeit\n",
    "df = get_data()\n",
    "for index, row in df.iterrows():\n",
    "    df.loc[index,'reward']= reward_calc(row)"
   ]
  },
  {
   "cell_type": "markdown",
   "id": "df3165ea",
   "metadata": {},
   "source": [
    "### apply"
   ]
  },
  {
   "cell_type": "code",
   "execution_count": 8,
   "id": "d1fb1d2d",
   "metadata": {},
   "outputs": [
    {
     "name": "stdout",
     "output_type": "stream",
     "text": [
      "59.1 ms ± 1.45 ms per loop (mean ± std. dev. of 7 runs, 10 loops each)\n"
     ]
    }
   ],
   "source": [
    "%%timeit\n",
    "df = get_data()\n",
    "df['reward'] = df.apply(reward_calc,axis=1)"
   ]
  },
  {
   "cell_type": "markdown",
   "id": "6029e859",
   "metadata": {},
   "source": [
    "### 矢量化 / vectorized"
   ]
  },
  {
   "cell_type": "code",
   "execution_count": 9,
   "id": "1cc0ec9e",
   "metadata": {},
   "outputs": [
    {
     "data": {
      "text/plain": [
       "0       False\n",
       "1        True\n",
       "2       False\n",
       "3        True\n",
       "4        True\n",
       "        ...  \n",
       "9995    False\n",
       "9996    False\n",
       "9997    False\n",
       "9998    False\n",
       "9999    False\n",
       "Length: 10000, dtype: bool"
      ]
     },
     "execution_count": 9,
     "metadata": {},
     "output_type": "execute_result"
    }
   ],
   "source": [
    "((df['pct_sleeping']>0.5)&(df['time_in_bed']>5))|(df['age']>90)"
   ]
  },
  {
   "cell_type": "code",
   "execution_count": 10,
   "id": "980868f7",
   "metadata": {},
   "outputs": [
    {
     "name": "stdout",
     "output_type": "stream",
     "text": [
      "2.93 ms ± 72.5 μs per loop (mean ± std. dev. of 7 runs, 100 loops each)\n"
     ]
    }
   ],
   "source": [
    "%%timeit\n",
    "df = get_data()\n",
    "df['reward'] = df['hate_food']\n",
    "df.loc[((df['pct_sleeping']>0.5)&\n",
    "        (df['time_in_bed']>5))|\n",
    "       (df['age']>90),\n",
    "       'reward'] = df['favorite_food']"
   ]
  },
  {
   "cell_type": "code",
   "execution_count": 11,
   "id": "33a284c1",
   "metadata": {},
   "outputs": [],
   "source": [
    "df = get_data()"
   ]
  },
  {
   "cell_type": "code",
   "execution_count": 12,
   "id": "0d50766f-2a3a-4b68-83c2-9fc5ee619790",
   "metadata": {},
   "outputs": [
    {
     "name": "stdout",
     "output_type": "stream",
     "text": [
      "516 μs ± 13 μs per loop (mean ± std. dev. of 7 runs, 1,000 loops each)\n"
     ]
    }
   ],
   "source": [
    "%%timeit\n",
    "df['reward'] = df['hate_food']\n",
    "df.loc[((df['pct_sleeping']>0.5)&\n",
    "        (df['time_in_bed']>5))|\n",
    "       (df['age']>90),\n",
    "       'reward'] = df['favorite_food']"
   ]
  },
  {
   "cell_type": "code",
   "execution_count": null,
   "id": "f07ccdb6",
   "metadata": {},
   "outputs": [],
   "source": []
  },
  {
   "cell_type": "markdown",
   "id": "acdbf758",
   "metadata": {},
   "source": [
    "## 结论"
   ]
  },
  {
   "cell_type": "code",
   "execution_count": 13,
   "id": "9f2c5e8d",
   "metadata": {},
   "outputs": [],
   "source": [
    "results = pd.DataFrame(\n",
    "    [\n",
    "        [\"loop\",756, 16.1],\n",
    "        [\"apply\",59.1,1.45],\n",
    "        [\"vectorized\",2.93,0.0073],\n",
    "    ],\n",
    "    columns=[\"type\",\"mean\",\"std\"]\n",
    ")"
   ]
  },
  {
   "cell_type": "code",
   "execution_count": 14,
   "id": "ec553a31",
   "metadata": {},
   "outputs": [
    {
     "data": {
      "text/plain": [
       "type\n",
       "loop          756.00\n",
       "apply          59.10\n",
       "vectorized      2.93\n",
       "Name: mean, dtype: float64"
      ]
     },
     "execution_count": 14,
     "metadata": {},
     "output_type": "execute_result"
    }
   ],
   "source": [
    "results.set_index('type')['mean']"
   ]
  },
  {
   "cell_type": "code",
   "execution_count": 15,
   "id": "e0ee1a5b",
   "metadata": {},
   "outputs": [
    {
     "data": {
      "text/plain": [
       "<Axes: title={'center': 'speed pandas'}, xlabel='type'>"
      ]
     },
     "execution_count": 15,
     "metadata": {},
     "output_type": "execute_result"
    },
    {
     "data": {
      "image/png": "[encoded data removed]",
      "text/plain": [
       "<Figure size 640x480 with 1 Axes>"
      ]
     },
     "metadata": {},
     "output_type": "display_data"
    }
   ],
   "source": [
    "results.set_index('type')['mean'].plot(kind='bar',title='speed pandas')"
   ]
  },
  {
   "cell_type": "code",
   "execution_count": null,
   "id": "87ba63bf",
   "metadata": {},
   "outputs": [],
   "source": []
  },
  {
   "cell_type": "code",
   "execution_count": null,
   "id": "2f6f06f1",
   "metadata": {},
   "outputs": [],
   "source": []
  },
  {
   "cell_type": "markdown",
   "id": "380f78f3",
   "metadata": {},
   "source": [
    "# 内存效能\n",
    "[Speed Up Your Pandas Dataframes \\- YouTube](https://www.youtube.com/watch?v=u4_c2LDi4b8)\n"
   ]
  },
  {
   "cell_type": "code",
   "execution_count": 16,
   "id": "34c00c78",
   "metadata": {},
   "outputs": [],
   "source": [
    "def get_dataset(size):\n",
    "    df = pd.DataFrame()\n",
    "    df['position'] = np.random.choice(['left','middle','right'], size)\n",
    "    df['age'] = np.random.randint(1,50, size)\n",
    "    df['team'] = np.random.choice(['red','blue','yellow','green'], size)\n",
    "    df['win'] = np.random.choice(['yes','no'],size)\n",
    "    df['prob'] = np.random.uniform(0,1, size)\n",
    "    return df"
   ]
  },
  {
   "cell_type": "code",
   "execution_count": 17,
   "id": "d94692a7",
   "metadata": {},
   "outputs": [],
   "source": [
    "df2 = get_dataset(2_000_000)"
   ]
  },
  {
   "cell_type": "code",
   "execution_count": 18,
   "id": "eee0bcee",
   "metadata": {},
   "outputs": [
    {
     "name": "stdout",
     "output_type": "stream",
     "text": [
      "<class 'pandas.core.frame.DataFrame'>\n",
      "RangeIndex: 2000000 entries, 0 to 1999999\n",
      "Data columns (total 5 columns):\n",
      " #   Column    Dtype  \n",
      "---  ------    -----  \n",
      " 0   position  object \n",
      " 1   age       int64  \n",
      " 2   team      object \n",
      " 3   win       object \n",
      " 4   prob      float64\n",
      "dtypes: float64(1), int64(1), object(3)\n",
      "memory usage: 76.3+ MB\n"
     ]
    }
   ],
   "source": [
    "df2.info()"
   ]
  },
  {
   "cell_type": "code",
   "execution_count": 19,
   "id": "1e88513d",
   "metadata": {},
   "outputs": [
    {
     "name": "stdout",
     "output_type": "stream",
     "text": [
      "1.02 s ± 31.7 ms per loop (mean ± std. dev. of 7 runs, 1 loop each)\n",
      "1.24 s ± 33.3 ms per loop (mean ± std. dev. of 7 runs, 1 loop each)\n",
      "1.33 s ± 42.9 ms per loop (mean ± std. dev. of 7 runs, 1 loop each)\n"
     ]
    }
   ],
   "source": [
    "%timeit df2['age_rank']= df2.groupby(['team','position'])['age'].rank()\n",
    "%timeit df2['prob_rank']= df2.groupby(['team','position'])['prob'].rank()\n",
    "%timeit df2['win_prob_rank']= df2.groupby(['team','position','win'])['prob'].rank()"
   ]
  },
  {
   "cell_type": "code",
   "execution_count": 20,
   "id": "54013463",
   "metadata": {},
   "outputs": [
    {
     "name": "stdout",
     "output_type": "stream",
     "text": [
      "peak memory: 654.20 MiB, increment: 0.08 MiB\n"
     ]
    }
   ],
   "source": [
    "%memit df2"
   ]
  },
  {
   "cell_type": "code",
   "execution_count": 21,
   "id": "02fb7d13",
   "metadata": {},
   "outputs": [
    {
     "data": {
      "text/html": [
       "<div>\n",
       "<style scoped>\n",
       "    .dataframe tbody tr th:only-of-type {\n",
       "        vertical-align: middle;\n",
       "    }\n",
       "\n",
       "    .dataframe tbody tr th {\n",
       "        vertical-align: top;\n",
       "    }\n",
       "\n",
       "    .dataframe thead th {\n",
       "        text-align: right;\n",
       "    }\n",
       "</style>\n",
       "<table border=\"1\" class=\"dataframe\">\n",
       "  <thead>\n",
       "    <tr style=\"text-align: right;\">\n",
       "      <th></th>\n",
       "      <th>position</th>\n",
       "      <th>age</th>\n",
       "      <th>team</th>\n",
       "      <th>win</th>\n",
       "      <th>prob</th>\n",
       "      <th>age_rank</th>\n",
       "      <th>prob_rank</th>\n",
       "      <th>win_prob_rank</th>\n",
       "    </tr>\n",
       "  </thead>\n",
       "  <tbody>\n",
       "    <tr>\n",
       "      <th>0</th>\n",
       "      <td>middle</td>\n",
       "      <td>7</td>\n",
       "      <td>green</td>\n",
       "      <td>no</td>\n",
       "      <td>0.581692</td>\n",
       "      <td>21858.0</td>\n",
       "      <td>96561.0</td>\n",
       "      <td>48126.0</td>\n",
       "    </tr>\n",
       "    <tr>\n",
       "      <th>1</th>\n",
       "      <td>left</td>\n",
       "      <td>41</td>\n",
       "      <td>red</td>\n",
       "      <td>yes</td>\n",
       "      <td>0.718646</td>\n",
       "      <td>137599.5</td>\n",
       "      <td>119670.0</td>\n",
       "      <td>60133.0</td>\n",
       "    </tr>\n",
       "    <tr>\n",
       "      <th>2</th>\n",
       "      <td>left</td>\n",
       "      <td>14</td>\n",
       "      <td>yellow</td>\n",
       "      <td>no</td>\n",
       "      <td>0.411442</td>\n",
       "      <td>46236.0</td>\n",
       "      <td>68682.0</td>\n",
       "      <td>34437.0</td>\n",
       "    </tr>\n",
       "    <tr>\n",
       "      <th>3</th>\n",
       "      <td>right</td>\n",
       "      <td>22</td>\n",
       "      <td>yellow</td>\n",
       "      <td>yes</td>\n",
       "      <td>0.864528</td>\n",
       "      <td>72935.5</td>\n",
       "      <td>144111.0</td>\n",
       "      <td>72282.0</td>\n",
       "    </tr>\n",
       "    <tr>\n",
       "      <th>4</th>\n",
       "      <td>left</td>\n",
       "      <td>31</td>\n",
       "      <td>yellow</td>\n",
       "      <td>yes</td>\n",
       "      <td>0.588192</td>\n",
       "      <td>104100.0</td>\n",
       "      <td>98150.0</td>\n",
       "      <td>48971.0</td>\n",
       "    </tr>\n",
       "  </tbody>\n",
       "</table>\n",
       "</div>"
      ],
      "text/plain": [
       "  position  age    team  win      prob  age_rank  prob_rank  win_prob_rank\n",
       "0   middle    7   green   no  0.581692   21858.0    96561.0        48126.0\n",
       "1     left   41     red  yes  0.718646  137599.5   119670.0        60133.0\n",
       "2     left   14  yellow   no  0.411442   46236.0    68682.0        34437.0\n",
       "3    right   22  yellow  yes  0.864528   72935.5   144111.0        72282.0\n",
       "4     left   31  yellow  yes  0.588192  104100.0    98150.0        48971.0"
      ]
     },
     "execution_count": 21,
     "metadata": {},
     "output_type": "execute_result"
    }
   ],
   "source": [
    "df2.head()"
   ]
  },
  {
   "cell_type": "markdown",
   "id": "3f390508",
   "metadata": {},
   "source": [
    "改变关键字段数据类型:"
   ]
  },
  {
   "cell_type": "code",
   "execution_count": 22,
   "id": "a612f115",
   "metadata": {},
   "outputs": [
    {
     "name": "stdout",
     "output_type": "stream",
     "text": [
      "<class 'pandas.core.frame.DataFrame'>\n",
      "RangeIndex: 1000000 entries, 0 to 999999\n",
      "Data columns (total 5 columns):\n",
      " #   Column    Non-Null Count    Dtype   \n",
      "---  ------    --------------    -----   \n",
      " 0   position  1000000 non-null  category\n",
      " 1   age       1000000 non-null  int64   \n",
      " 2   team      1000000 non-null  category\n",
      " 3   win       1000000 non-null  object  \n",
      " 4   prob      1000000 non-null  float64 \n",
      "dtypes: category(2), float64(1), int64(1), object(1)\n",
      "memory usage: 24.8+ MB\n"
     ]
    }
   ],
   "source": [
    "df3 = get_dataset(1_000_000)\n",
    "df3['position'] = df3['position'].astype('category')\n",
    "df3['team'] = df3['team'].astype('category')\n",
    "df3.info( )"
   ]
  },
  {
   "cell_type": "code",
   "execution_count": 23,
   "id": "787e6aed",
   "metadata": {},
   "outputs": [
    {
     "data": {
      "text/plain": [
       "0         34\n",
       "1         19\n",
       "2         29\n",
       "3         20\n",
       "4         44\n",
       "          ..\n",
       "999995    46\n",
       "999996    14\n",
       "999997    27\n",
       "999998    19\n",
       "999999     6\n",
       "Name: age, Length: 1000000, dtype: int64"
      ]
     },
     "execution_count": 23,
     "metadata": {},
     "output_type": "execute_result"
    }
   ],
   "source": [
    "df3['age']"
   ]
  },
  {
   "cell_type": "markdown",
   "id": "df02e93b",
   "metadata": {},
   "source": [
    "## Int 向下转换值范围\n",
    "\n",
    "- .int8 可以存储从 -128 到 127 的整数。\n",
    "- .int16 可以存储从 -32768 到 32767 的整数\n",
    "- .int64 可以存储从 -9223372036854775808 到 9223372036854775807 的整数\n"
   ]
  },
  {
   "cell_type": "code",
   "execution_count": null,
   "id": "afb153e6",
   "metadata": {},
   "outputs": [],
   "source": []
  },
  {
   "cell_type": "code",
   "execution_count": null,
   "id": "124118b5",
   "metadata": {},
   "outputs": [],
   "source": []
  },
  {
   "cell_type": "code",
   "execution_count": null,
   "id": "ab7a8924",
   "metadata": {},
   "outputs": [],
   "source": []
  },
  {
   "cell_type": "code",
   "execution_count": null,
   "id": "3ef86aed",
   "metadata": {},
   "outputs": [],
   "source": []
  },
  {
   "cell_type": "code",
   "execution_count": null,
   "id": "f68841ae-301c-4491-87ed-3f3c1cc0c667",
   "metadata": {},
   "outputs": [],
   "source": []
  }
 ],
 "metadata": {
  "kernelspec": {
   "display_name": "Python 3 (ipykernel)",
   "language": "python",
   "name": "python3"
  },
  "language_info": {
   "codemirror_mode": {
    "name": "ipython",
    "version": 3
   },
   "file_extension": ".py",
   "mimetype": "text/x-python",
   "name": "python",
   "nbconvert_exporter": "python",
   "pygments_lexer": "ipython3",
   "version": "3.10.13"
  },
  "toc": {
   "base_numbering": 1,
   "nav_menu": {},
   "number_sections": true,
   "sideBar": true,
   "skip_h1_title": false,
   "title_cell": "Table of Contents",
   "title_sidebar": "Contents",
   "toc_cell": false,
   "toc_position": {},
   "toc_section_display": true,
   "toc_window_display": false
  },
  "widgets": {
   "application/vnd.jupyter.widget-state+json": {
    "state": {},
    "version_major": 2,
    "version_minor": 0
   }
  }
 },
 "nbformat": 4,
 "nbformat_minor": 5
}
