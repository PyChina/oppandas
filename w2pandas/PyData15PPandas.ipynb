{
 "cells": [
  {
   "cell_type": "markdown",
   "id": "6483c723-74f1-4637-aaeb-5894fcc4aaf4",
   "metadata": {},
   "source": [
    "# PyData London 2015\n",
    "Jeff Reback: Performance Pandas (PyData London 2015) - YouTube https://www.youtube.com/watch?v=xUBoPK6FGIU\n"
   ]
  },
  {
   "cell_type": "code",
   "execution_count": null,
   "id": "3b12879f-09d9-4763-b4c9-dee9ac84d34d",
   "metadata": {},
   "outputs": [],
   "source": []
  },
  {
   "cell_type": "code",
   "execution_count": null,
   "id": "8e01d561-9d99-4a4f-919b-1a1976d6c694",
   "metadata": {},
   "outputs": [],
   "source": []
  },
  {
   "cell_type": "code",
   "execution_count": null,
   "id": "145f79c4-2ec4-4b31-b94b-585fc23cff51",
   "metadata": {},
   "outputs": [],
   "source": []
  },
  {
   "cell_type": "code",
   "execution_count": null,
   "id": "874b9ac0-6aa6-402e-b067-f4aacf0086d2",
   "metadata": {},
   "outputs": [],
   "source": []
  }
 ],
 "metadata": {
  "kernelspec": {
   "display_name": "Python 3 (ipykernel)",
   "language": "python",
   "name": "python3"
  },
  "language_info": {
   "codemirror_mode": {
    "name": "ipython",
    "version": 3
   },
   "file_extension": ".py",
   "mimetype": "text/x-python",
   "name": "python",
   "nbconvert_exporter": "python",
   "pygments_lexer": "ipython3",
   "version": "3.12.2"
  },
  "toc": {
   "base_numbering": 1,
   "nav_menu": {},
   "number_sections": true,
   "sideBar": true,
   "skip_h1_title": false,
   "title_cell": "Table of Contents",
   "title_sidebar": "Contents",
   "toc_cell": false,
   "toc_position": {},
   "toc_section_display": true,
   "toc_window_display": false
  }
 },
 "nbformat": 4,
 "nbformat_minor": 5
}
